{
 "cells": [
  {
   "cell_type": "markdown",
   "id": "60f78e9f",
   "metadata": {},
   "source": [
    "# Введение"
   ]
  },
  {
   "cell_type": "markdown",
   "id": "e2140f61",
   "metadata": {},
   "source": [
    "Данная работа направлена на объединение двух областей - машинного обучения и криптографии. Для этого будет рассмотрена довольна простая для понимания, но одновременно с этим весьма трудноразрешимая проблема - LPN (Learning Parity with Noise), встречающаяся при построении криптографических алгоритмов.\n",
    "\n",
    "Практическое применение криптографии довольно очевидно - представим, что у нас есть собственный отель, в котором нам необходимо организовать индивидуальный и защищенный доступ гостей в их номера. Первое решение, которое приходит в голову - использование обыкновенных физических ключей. Однако у привычных для нас ключей есть существенный недостаток - их не так трудно потерять, что влечет за собой ощутимые затраты для отеля, поскольку если ключ был уникальным - придется менять замок на двери.\n",
    "\n",
    "Не удовлетворившись данным решением, нам в голову может прийти другая мысль - использовать смарт-карты (в частности, карты с чипами RFID (radio-frequency identification), а также соответствующие им замки. Поскольку у нас есть много дверей и при этом мы очень хотим сэкономить деньги, мы выбираем очень слабые RFID-чипы.\n",
    "\n",
    "Наша система должна работать следующим образом: в каждом замке и на каждой карте хранится секретный ключ, т.е. двоичный вектор (s = (1,0,1,0)), который на практике намного длиннее. При поднесении карты к замку, замок работает как считыватель, сканируя секретный ключ карты. Если секретные ключи карты и двери совпадают, то дверь открывается!\n",
    "\n",
    "Но как все это организовать? Самый простой способ - поднести карту к замку, после чего замок \"попросит\" чип на карте отправить свой секретный ключ. Затем замок проверяет, совпадают ли оба секретных ключа, и если они совпадают - дверь откроется. Кажется, проблема решена, потому что если у нас нет правильной карты, т.е. секретный ключ на нашем чипе отличается от секретного ключа в дверном замке, то дверь не откроется.\n"
   ]
  },
  {
   "cell_type": "markdown",
   "id": "35c73ee8",
   "metadata": {},
   "source": [
    "# Проблематика"
   ]
  },
  {
   "cell_type": "markdown",
   "id": "90ed73cb",
   "metadata": {},
   "source": [
    "На самом деле, проблемы с защищенным доступ все-таки есть. Злоумышленник может сидеть в коридоре, не предпринимая никаких действий, которые могли бы показаться окружающим подозрительными. Но на самом деле злоумышленник может прослушивает RFID-трафик, то есть считывать данные связи между замком и чипом гостя. Если чип отправляет секретный ключ напрямую и без модификаций, то злоумышленник увидит его, сохранит, подделает карту, содержащую этот ключ, а затем сможет войти в комнату.\n",
    "\n",
    "Поэтому просто использовать смарт-карты - плохая идея. Это работает только в том случае, если в мире нет злоумышленников, что, очевидно, крайне маловероятно. Необходимо повысить безопасность гостей. Идея заключается в следующем: чип каким-то образом должен доказать замку, что он обладает правильным секретным ключом, при этом не раскрывая его.\n",
    "\n",
    "И именно в этот момент появляется криптография. Если ключ будет зашифрован, то злоумышленник увидит в поиске только мусор и не сможет восстановить сам ключ. Но, к сожалению, RFID-чип слишком слаб для шифрования чего-либо, потому что изначально мы очень хотели сэкономить деньги. Такой подход справедлив и для крупных компаний в реальном мире. У чипа почти нет вычислительной мощности, а также едва хватает места для хранения его секретного ключа. Поэтому нам нужно другое, более легкое решение. Одно из решений - использовать криптографический протокол, подобный протоколу HB. Этот протокол затрудняет извлечение ключа злоумышленником.\n",
    "\n",
    "Стандартный протокол HB имеет ряд других уязвимостей и не должен использоваться на практике, однако он идеально подходит для объяснения базовых идей. Для обеспечения безопасности в реальном мире следует использовать более безопасные расширения этого протокола или другие, более усовершенствованные протоколы.\n"
   ]
  },
  {
   "cell_type": "markdown",
   "id": "2af53f9f",
   "metadata": {},
   "source": [
    "# HB Protocol"
   ]
  },
  {
   "cell_type": "markdown",
   "id": "2d3c35ee",
   "metadata": {},
   "source": [
    "  Протокол HB - это протокол аутентификации с общим секретным ключом, разработанный для недорогих устройств с небольшой вычислительной мощностью, таких как метки RFID. Он имеет другие уязвимости и обычно не используется на практике.\n",
    "        \tИмеется считыватель R и тег T, то есть чип. Задача тега T состоит в том, чтобы подтвердить считывателю R, что он обладает тем же секретным ключом, при этом не раскрывая его. Для решения данной задачи считыватель несколько раз вызывает для T запросы, на которые правильно ответить может только тег, имеющий правильный секретный ключ. Уже известно, что спрашивать только секретный ключ небезопасно, так как это дает слишком много информации. Во избежание этого, в протоколе HB у тега T спрашивают только небольшие части секрета по одному биту за раз, пока R не удостовериться в наличии правильного секретного ключа у T.\n",
    "        \tПредположим, что секретные ключи R и T это тоже самое, что и s = (1,0,1,0). Теперь R посылает T случайный двоичный вектор a, например a = (1,0,1,1), и ожидает, что T отправит в ответ скалярное произведение b = <a,s>, то есть в данном примере это будет выглядеть следующим образом:\n"
   ]
  },
  {
   "cell_type": "markdown",
   "id": "3614490e",
   "metadata": {},
   "source": [
    "$$ <(1,0,1,1),(1,0,1,0)> = 1 *1 + 0 * 0 + 1 * 1 + 1 * 0 = 1 + 1 = 0 $$"
   ]
  },
  {
   "cell_type": "markdown",
   "id": "e298c538",
   "metadata": {},
   "source": [
    "Данная операция называет вызовом. Нужно отметить, что работа происходит с битовой арифметикой, а значит операция «+» является логической операцией исключающее «или» (XOR). А умножение такое же, как и в действительных числах.\n",
    "R может сам вычислить скалярное произведение, так как ему известны a и s, и проверяет ответ T. Если ответ совпадает, R становится более уверенным в том, что T на самом деле имеет тот же самый секретный ключ. Но для полной уверенности такая процедура повторяется несколько раз.\n"
   ]
  },
  {
   "cell_type": "markdown",
   "id": "eb993460",
   "metadata": {},
   "source": [
    "![Цикл](./cycle.png)"
   ]
  },
  {
   "cell_type": "markdown",
   "id": "17c8f38d",
   "metadata": {},
   "source": [
    "Например, если у T нет правильного ключа, то очень маловероятно, что он будет успешным после достаточного количества раундов, поскольку единственный ответ будет правильным только с вероятностью 0,5. Следовательно, например, после 10 раундов вероятность успешной аутентификации составляет всего 1/1024, что меньше 0,1%.\n",
    "Это уже больше походит на правду. Теперь T не раскрывает свой секрет сразу, вместо этого он дает некоторую информацию R, отвечая на вызовы. Но, к сожалению, это все еще небезопасно. Злоумышленник все еще может записать полную связь между R и T, а затем легко решить систему линейных уравнений, чтобы восстановить s. Это делается следующим образом: допустим, что злоумышленник записал для пар вызов/ответ следующую систему:\n"
   ]
  },
  {
   "cell_type": "markdown",
   "id": "c3635007",
   "metadata": {},
   "source": [
    "$$ a_1 = (1,0,1,1), b_1 = 0 $$\n",
    "$$ a_2 = (0,1,1,1), b_2 = 1 $$\n",
    "$$ a_3 = (0,0,1,0), b_3 = 1 $$\n",
    "$$ a_4 = (0,0,0,1), b_4 = 0 $$\n"
   ]
  },
  {
   "cell_type": "markdown",
   "id": "2694c4c7",
   "metadata": {},
   "source": [
    "Злоумышленнику также известно, что:"
   ]
  },
  {
   "cell_type": "markdown",
   "id": "753acad0",
   "metadata": {},
   "source": [
    "<img src='./eq1.png' />"
   ]
  },
  {
   "cell_type": "markdown",
   "id": "4fa179da",
   "metadata": {},
   "source": [
    " где A — матрица, содержащая aᵢ в виде строк, а b — bᵢ. Система линейных уравнений, которую должен решить злоумышленник в данном случае будет иметь вид:"
   ]
  },
  {
   "cell_type": "markdown",
   "id": "af63c218",
   "metadata": {},
   "source": [
    "$$ \\begin{pmatrix}\n",
    " 1 & 0 & 1 & 1 \\\\ \n",
    " 0 & 1 & 1 & 1 \\\\ \n",
    " 0 & 0 & 1 & 0 \\\\ \n",
    " 0 & 0 & 0 & 1 \\\\ \n",
    "\\end{pmatrix}  \n",
    "s= \n",
    "\\begin{pmatrix}\n",
    "0\\\\ \n",
    "1\\\\ \n",
    "1\\\\ \n",
    "0\n",
    "\\end{pmatrix} $$"
   ]
  },
  {
   "cell_type": "markdown",
   "id": "8bd55edf",
   "metadata": {},
   "source": [
    "Таким образом, решение этой системы для s выдает секрет, то есть s = (1,0,1,0). Это можно сделать и другим методом, с помощью исключения Гаусса, если s намного больше, то есть имеет длину 1024 бита.\n"
   ]
  },
  {
   "cell_type": "markdown",
   "id": "08963232",
   "metadata": {},
   "source": [
    "# Паритет обучения с проблемой шума"
   ]
  },
  {
   "cell_type": "markdown",
   "id": "fae71112",
   "metadata": {},
   "source": [
    "Существует одна небольшая, но чрезвычайно важная настройка, позволяющая обезопаситься от нашего злоумышленника -  распределение Бернулли. Распределение Бернулли моделирует случайный эксперимент произвольной природы, когда заранее известна вероятность успеха или неудачи. T просто добавляет к своим ответам случайный шум Бернулли. Вместо того, чтобы отправить <a,s> обратно R, он подбрасывает монету e, которая равна 1 с вероятностью p и 0 в противном случае, и отправляет обратно <a,s>+e читателю. Другими словами, с вероятностью 1-p тег отправляет <a,s> обратно в R и с вероятностью p переключает бит ответа с 0 на 1 или с 1 на 0. Предположим, что p <0,5. Надо отметить, что это не мешает злоумышленнику прослушивать общение между R и T и делать заметки, однако теперь им нужно решить следующую задачу:\n",
    "$$ As \\approx b $$\n",
    "Это обозначение указывает на то, что каждое уравнение системы уравнений правильно только с вероятностью 1-p. Более формально можно записать как As+e=b, где e — вектор шума, в котором каждый компонент независимо равен 1 с вероятностью p и 0 с вероятностью 1-p.\n",
    "Таким образом, злоумышленник должен решить зашумленную систему уравнений. Предполагается, что для постоянной частоты ошибок p проблему четности обучения с шумом (LPN) невозможно решить при достаточно большой длине секретного ключа. Это верно и тогда, когда злоумышленник может получить много больше уравнений.\n",
    "        \tДаже с добавлением этих ошибок R может выполнить свою работу, основываясь на том, знает ли T s или нет. Если T имеет правильное значение s, доля правильных ответов составляет примерно 1-p. Это означает, если p = 0,25, то протокол HB выполняется для 1000 итераций, T должен дать около 750 правильных ответов. Если T не имеет правильного s, он даст долю около 0,5 правильных ответов, то есть 500 из 1000 циклов выполнения протокола. Это позволяет R решить, имеет ли T правильный секрет или нет, и этот протокол по-прежнему имеет смысл для данного варианта использования."
   ]
  },
  {
   "cell_type": "markdown",
   "id": "8b443981",
   "metadata": {},
   "source": [
    "# Решение LPN с помощью машинного обучения"
   ]
  },
  {
   "cell_type": "markdown",
   "id": "2322f950",
   "metadata": {},
   "source": [
    "Уже известно, что означает решение задачи LPN при заданной случайной бинарной матрице A и бинарном векторе b=As+e для восстановления s. Важное отметить, что теперь можно рассматривать каждую строку aᵢ матрицы A как образец, а соответствующее значение bᵢ=<aᵢ, s>+eᵢ в векторе b как метку."
   ]
  },
  {
   "cell_type": "markdown",
   "id": "9271eeeb",
   "metadata": {},
   "source": [
    "Используя пример с секретной длиной 4 и шестью захваченными сообщениями, можно видеть, что каждая строка матрицы A состоит из четырех признаков, а запись в b является соответствующей меткой. Данный набор данных имеет размерность шесть.\n",
    "Как и в обычных наборах данных, используемых в машинном обучении, метка bᵢ на самом деле напоминает скалярное произведение вектора признаков aᵢ и фиксированного секретного вектора s (некоторая истина), но с добавленным термином ошибки. Сейчас задача состоит в том, чтобы понять, как можно получить секрет s, когда на него будет наложен алгоритм машинного обучения для предсказания меток.\n",
    "Если достаточно подробно изучить проблему, то тогда можно генерировать прогнозы для меток (скалярных произведений и истинности основания) для каждого вектора признаков так, как удобно. Если добавить вектор a=(1,0,0,0), то можно получить удачное предположение первого бита s\n",
    "$$ b = <(1,0,0,0), s> = 1 * s_1 + 0 * s_2 + 0 * s_3 + 0 * s_4 = s_1 $$\n",
    "Если повторить тоже самое с векторами (0, 1, 0, 0), (0, 0, 1, 0) и (0, 0, 0, 1), то можно получить все биты секретного ключа. Таким образом, можно решить проблему LPN с помощью машинного обучения.\n",
    "Проблема LPN очень универсальна. Ее можно использовать для построения шифрования, шифрования на основе идентичности, аутентификации пользователей, неочевидным обменом информации между двумя лицами или процессами, кодов аутентификации сообщений и, возможно, других конструкций. Кроме того, в отличие от проблемы факторизации, проблему LPN нельзя легко решить с помощью квантовых компьютеров. В сочетании с его легкостью он является хорошим кандидатом для создания постквантовых безопасных алгоритмов.\n"
   ]
  },
  {
   "cell_type": "markdown",
   "id": "5d2d2d93",
   "metadata": {},
   "source": [
    "# Эксперименты :-)"
   ]
  },
  {
   "cell_type": "code",
   "execution_count": 68,
   "id": "2d35df6f",
   "metadata": {},
   "outputs": [],
   "source": [
    "import numpy as np\n",
    "from sklearn.tree import DecisionTreeClassifier\n",
    "from sklearn.ensemble import RandomForestClassifier\n",
    "import math\n",
    "import pandas as pd\n",
    "from sklearn import preprocessing\n",
    "import warnings\n",
    "warnings.filterwarnings(\"ignore\")"
   ]
  },
  {
   "cell_type": "code",
   "execution_count": 69,
   "id": "5ef8491e",
   "metadata": {},
   "outputs": [],
   "source": [
    "class LPNOracle:\n",
    "    def __init__(self, secret, error_rate):\n",
    "        self.secret = secret\n",
    "        self.dimension = len(secret)\n",
    "        self.error_rate = error_rate\n",
    "    def sample(self, n_amount):\n",
    "        # Матрица кодов.\n",
    "        A = np.random.randint(0, 2, size=(n_amount, self.dimension))\n",
    "        # Ошибка Бернулли.\n",
    "        e = np.random.binomial(1, self.error_rate, n_amount)\n",
    "        # Результирующий вектор.\n",
    "        b = np.mod(A @ self.secret + e, 2)\n",
    "        return A, b"
   ]
  },
  {
   "cell_type": "markdown",
   "id": "de340d04",
   "metadata": {},
   "source": [
    "Нижеописанная функция представляет из себя тест сгенерированного ключа."
   ]
  },
  {
   "cell_type": "code",
   "execution_count": 70,
   "id": "dd9e94f5",
   "metadata": {},
   "outputs": [],
   "source": [
    "def test_hypothesis(candidate_secret, m, p, dim):\n",
    "    t = m*p + math.sqrt(m*dim)\n",
    "    hamming_weight = np.mod(A @ s_candidate + b, 2).sum()\n",
    "    return hamming_weight <= t"
   ]
  },
  {
   "cell_type": "markdown",
   "id": "ca700366",
   "metadata": {},
   "source": [
    "Генерация ключа:"
   ]
  },
  {
   "cell_type": "code",
   "execution_count": 47,
   "id": "34f0fafb",
   "metadata": {},
   "outputs": [],
   "source": [
    "def generate_candidate(num_samples, dim):\n",
    "    dt = RandomForestClassifier(n_estimators=math.ceil(num_samples/50), random_state=123)\n",
    "    dt.fit(A, b)\n",
    "    return dt.predict(np.eye(dim))"
   ]
  },
  {
   "cell_type": "markdown",
   "id": "2de52a4a",
   "metadata": {},
   "source": [
    "Для всех вероятностей ошибок 0.1 <= p < 0.5 с шагом 0.05 проверим количество необходимых для угадывания ключа попыток.\n",
    "При этом будем использовать разное количество исходных обучающих вектор и матриц."
   ]
  },
  {
   "cell_type": "code",
   "execution_count": 48,
   "id": "e090bf34",
   "metadata": {
    "scrolled": false
   },
   "outputs": [
    {
     "name": "stdout",
     "output_type": "stream",
     "text": [
      "SUCCESS!!! Try # 0 , Num of samples: 20 , error_rate: 0.1 KEYS: [0 0 1 0 0 0 0 0] [0 0 0 1 0 1 0 0]\n",
      "SUCCESS!!! Try # 2 , Num of samples: 40 , error_rate: 0.1 KEYS: [1 0 0 0 1 1 1 0] [1 1 0 1 0 0 1 1]\n",
      "SUCCESS!!! Try # 0 , Num of samples: 60 , error_rate: 0.1 KEYS: [0 0 0 0 0 1 0 0] [1 0 0 1 0 1 0 0]\n",
      "SUCCESS!!! Try # 4 , Num of samples: 80 , error_rate: 0.1 KEYS: [1 1 0 0 0 0 0 0] [1 1 0 0 0 0 0 0]\n",
      "SUCCESS!!! Try # 69 , Num of samples: 100 , error_rate: 0.1 KEYS: [0 1 0 1 1 0 0 0] [0 1 1 1 1 0 1 0]\n",
      "SUCCESS!!! Try # 0 , Num of samples: 120 , error_rate: 0.1 KEYS: [1 1 1 0 0 0 1 0] [1 1 1 0 0 0 1 0]\n",
      "SUCCESS!!! Try # 42 , Num of samples: 140 , error_rate: 0.1 KEYS: [0 0 0 1 1 0 1 1] [0 0 0 1 1 0 1 1]\n",
      "SUCCESS!!! Try # 12 , Num of samples: 160 , error_rate: 0.1 KEYS: [0 0 1 1 0 1 1 0] [0 0 1 1 0 1 1 0]\n",
      "SUCCESS!!! Try # 13 , Num of samples: 180 , error_rate: 0.1 KEYS: [1 0 0 1 0 0 0 1] [1 0 0 1 0 0 0 1]\n",
      "SUCCESS!!! Try # 11 , Num of samples: 200 , error_rate: 0.1 KEYS: [0 1 0 0 1 0 0 1] [0 1 0 0 1 0 0 1]\n",
      "SUCCESS!!! Try # 91 , Num of samples: 220 , error_rate: 0.1 KEYS: [1 0 1 1 1 1 1 1] [1 0 1 1 1 1 1 1]\n",
      "SUCCESS!!! Try # 0 , Num of samples: 240 , error_rate: 0.1 KEYS: [0 0 0 0 1 0 1 0] [0 0 0 0 1 0 1 0]\n",
      "SUCCESS!!! Try # 2 , Num of samples: 260 , error_rate: 0.1 KEYS: [0 0 1 1 0 0 0 0] [0 0 1 1 0 0 0 0]\n",
      "SUCCESS!!! Try # 5 , Num of samples: 280 , error_rate: 0.1 KEYS: [0 1 0 1 0 0 0 0] [0 1 0 1 0 0 0 0]\n",
      "SUCCESS!!! Try # 6 , Num of samples: 300 , error_rate: 0.1 KEYS: [1 1 0 0 0 1 0 0] [1 1 0 0 0 1 0 0]\n",
      "SUCCESS!!! Try # 22 , Num of samples: 320 , error_rate: 0.1 KEYS: [1 0 1 0 1 0 0 1] [1 0 1 0 1 0 0 1]\n",
      "SUCCESS!!! Try # 4 , Num of samples: 340 , error_rate: 0.1 KEYS: [0 1 0 1 0 1 1 1] [0 1 0 1 0 1 1 1]\n",
      "SUCCESS!!! Try # 6 , Num of samples: 360 , error_rate: 0.1 KEYS: [1 1 0 0 0 1 1 0] [1 1 0 0 0 1 1 0]\n",
      "SUCCESS!!! Try # 7 , Num of samples: 380 , error_rate: 0.1 KEYS: [0 1 1 0 1 1 0 1] [0 1 1 0 1 1 0 1]\n",
      "SUCCESS!!! Try # 0 , Num of samples: 26 , error_rate: 0.15 KEYS: [0 0 0 0 0 0 1 0] [0 0 0 0 0 0 1 0]\n",
      "SUCCESS!!! Try # 0 , Num of samples: 52 , error_rate: 0.15 KEYS: [0 0 0 0 0 0 1 0] [1 0 1 1 0 0 1 0]\n",
      "SUCCESS!!! Try # 1 , Num of samples: 78 , error_rate: 0.15 KEYS: [0 0 1 1 0 0 0 0] [1 0 1 0 0 0 1 0]\n",
      "SUCCESS!!! Try # 0 , Num of samples: 104 , error_rate: 0.15 KEYS: [0 0 1 1 0 1 0 1] [0 1 1 1 0 1 1 0]\n",
      "SUCCESS!!! Try # 7 , Num of samples: 130 , error_rate: 0.15 KEYS: [0 0 1 0 0 0 0 1] [0 0 1 0 0 0 0 1]\n",
      "SUCCESS!!! Try # 16 , Num of samples: 156 , error_rate: 0.15 KEYS: [1 0 0 0 1 0 1 0] [0 1 0 1 1 1 0 1]\n",
      "SUCCESS!!! Try # 7 , Num of samples: 182 , error_rate: 0.15 KEYS: [1 1 1 0 0 0 0 0] [1 1 1 0 0 0 0 0]\n",
      "SUCCESS!!! Try # 26 , Num of samples: 208 , error_rate: 0.15 KEYS: [1 0 0 1 0 1 1 0] [1 0 0 1 0 1 1 0]\n",
      "SUCCESS!!! Try # 35 , Num of samples: 234 , error_rate: 0.15 KEYS: [1 0 1 1 0 0 1 0] [1 0 1 1 0 0 1 0]\n",
      "SUCCESS!!! Try # 20 , Num of samples: 260 , error_rate: 0.15 KEYS: [1 0 1 1 1 0 1 0] [1 0 1 1 1 0 1 0]\n",
      "SUCCESS!!! Try # 4 , Num of samples: 286 , error_rate: 0.15 KEYS: [1 0 1 0 0 0 0 0] [1 0 1 0 0 0 0 0]\n",
      "SUCCESS!!! Try # 18 , Num of samples: 312 , error_rate: 0.15 KEYS: [1 1 1 1 0 1 0 0] [1 1 1 1 0 1 0 0]\n",
      "SUCCESS!!! Try # 0 , Num of samples: 338 , error_rate: 0.15 KEYS: [0 1 1 0 0 0 0 0] [0 1 1 0 0 0 0 0]\n",
      "SUCCESS!!! Try # 10 , Num of samples: 364 , error_rate: 0.15 KEYS: [1 1 0 0 1 1 1 0] [1 1 0 0 1 1 1 0]\n",
      "SUCCESS!!! Try # 2 , Num of samples: 390 , error_rate: 0.15 KEYS: [0 1 1 1 1 0 0 1] [0 1 1 1 1 0 0 1]\n",
      "SUCCESS!!! Try # 1 , Num of samples: 416 , error_rate: 0.15 KEYS: [0 0 0 0 1 0 1 0] [0 0 0 0 1 0 1 0]\n",
      "SUCCESS!!! Try # 0 , Num of samples: 442 , error_rate: 0.15 KEYS: [1 0 0 0 1 1 0 0] [1 0 0 0 1 1 0 0]\n",
      "SUCCESS!!! Try # 8 , Num of samples: 468 , error_rate: 0.15 KEYS: [1 1 1 0 0 0 0 0] [1 1 1 0 0 0 0 0]\n",
      "SUCCESS!!! Try # 2 , Num of samples: 494 , error_rate: 0.15 KEYS: [0 0 1 0 0 1 0 0] [0 0 1 0 0 1 0 0]\n",
      "SUCCESS!!! Try # 0 , Num of samples: 520 , error_rate: 0.15 KEYS: [0 1 1 0 0 0 0 0] [0 1 1 0 0 0 0 0]\n",
      "SUCCESS!!! Try # 0 , Num of samples: 35 , error_rate: 0.2 KEYS: [0 0 0 0 0 0 1 0] [1 0 1 0 0 0 0 1]\n",
      "SUCCESS!!! Try # 0 , Num of samples: 70 , error_rate: 0.2 KEYS: [0 0 0 0 0 0 1 0] [1 0 0 0 0 0 1 1]\n",
      "SUCCESS!!! Try # 0 , Num of samples: 105 , error_rate: 0.2 KEYS: [0 0 0 0 0 0 0 1] [1 1 0 1 0 1 0 1]\n",
      "SUCCESS!!! Try # 6 , Num of samples: 140 , error_rate: 0.2 KEYS: [0 0 1 0 0 1 0 0] [1 0 1 0 0 0 1 0]\n",
      "SUCCESS!!! Try # 9 , Num of samples: 175 , error_rate: 0.2 KEYS: [0 1 0 0 1 0 0 0] [1 1 1 1 1 0 1 1]\n",
      "SUCCESS!!! Try # 20 , Num of samples: 210 , error_rate: 0.2 KEYS: [0 1 1 1 0 0 1 1] [0 1 1 1 0 0 1 1]\n",
      "SUCCESS!!! Try # 40 , Num of samples: 245 , error_rate: 0.2 KEYS: [1 1 0 1 1 1 1 0] [1 1 0 1 1 1 1 0]\n",
      "SUCCESS!!! Try # 16 , Num of samples: 280 , error_rate: 0.2 KEYS: [1 1 0 1 0 0 1 0] [1 1 0 1 0 0 1 0]\n",
      "SUCCESS!!! Try # 18 , Num of samples: 315 , error_rate: 0.2 KEYS: [0 0 1 0 1 1 0 0] [0 0 1 0 1 1 0 0]\n",
      "SUCCESS!!! Try # 12 , Num of samples: 350 , error_rate: 0.2 KEYS: [1 0 1 0 1 0 1 0] [1 0 1 0 1 0 1 0]\n",
      "SUCCESS!!! Try # 2 , Num of samples: 385 , error_rate: 0.2 KEYS: [0 1 1 0 1 0 0 0] [0 1 1 0 1 0 0 0]\n",
      "SUCCESS!!! Try # 43 , Num of samples: 420 , error_rate: 0.2 KEYS: [1 0 1 0 1 0 1 1] [1 0 1 0 1 0 1 1]\n",
      "SUCCESS!!! Try # 8 , Num of samples: 455 , error_rate: 0.2 KEYS: [1 0 1 1 1 0 0 0] [1 0 1 1 1 0 0 0]\n",
      "SUCCESS!!! Try # 13 , Num of samples: 490 , error_rate: 0.2 KEYS: [1 1 0 0 1 0 0 0] [1 1 0 0 1 0 0 0]\n",
      "SUCCESS!!! Try # 10 , Num of samples: 525 , error_rate: 0.2 KEYS: [0 1 1 1 1 0 0 1] [0 1 1 1 1 0 0 1]\n",
      "SUCCESS!!! Try # 2 , Num of samples: 560 , error_rate: 0.2 KEYS: [0 1 0 0 1 1 1 0] [0 1 0 0 1 1 1 0]\n",
      "SUCCESS!!! Try # 3 , Num of samples: 595 , error_rate: 0.2 KEYS: [0 0 1 1 1 0 0 1] [0 0 1 1 1 0 0 1]\n",
      "SUCCESS!!! Try # 3 , Num of samples: 630 , error_rate: 0.2 KEYS: [0 0 1 0 0 1 0 0] [0 0 1 0 0 1 0 0]\n",
      "SUCCESS!!! Try # 47 , Num of samples: 665 , error_rate: 0.2 KEYS: [1 1 1 0 1 1 0 1] [1 1 1 0 1 1 0 1]\n",
      "SUCCESS!!! Try # 2 , Num of samples: 700 , error_rate: 0.2 KEYS: [0 1 0 1 1 1 0 1] [0 1 0 1 1 1 0 1]\n",
      "SUCCESS!!! Try # 0 , Num of samples: 51 , error_rate: 0.25 KEYS: [0 0 1 0 0 1 0 0] [0 1 1 0 1 0 1 1]\n",
      "SUCCESS!!! Try # 0 , Num of samples: 102 , error_rate: 0.25 KEYS: [1 0 0 1 1 0 0 1] [1 1 0 1 0 0 0 0]\n",
      "SUCCESS!!! Try # 0 , Num of samples: 153 , error_rate: 0.25 KEYS: [1 0 0 0 0 1 0 0] [1 1 1 1 0 1 1 1]\n",
      "SUCCESS!!! Try # 5 , Num of samples: 204 , error_rate: 0.25 KEYS: [0 0 1 0 0 0 0 0] [1 0 1 1 0 1 1 0]\n",
      "SUCCESS!!! Try # 18 , Num of samples: 255 , error_rate: 0.25 KEYS: [0 0 1 0 1 1 1 1] [1 1 0 0 1 1 0 0]\n",
      "SUCCESS!!! Try # 39 , Num of samples: 306 , error_rate: 0.25 KEYS: [1 1 0 0 0 1 0 1] [1 1 0 0 0 1 0 1]\n",
      "SUCCESS!!! Try # 22 , Num of samples: 357 , error_rate: 0.25 KEYS: [0 1 0 0 1 1 0 1] [0 1 0 0 1 1 0 1]\n",
      "SUCCESS!!! Try # 8 , Num of samples: 408 , error_rate: 0.25 KEYS: [1 0 0 0 0 1 0 0] [1 0 0 0 0 1 0 0]\n",
      "SUCCESS!!! Try # 0 , Num of samples: 459 , error_rate: 0.25 KEYS: [0 1 1 0 0 0 0 1] [0 1 1 0 0 0 0 1]\n",
      "SUCCESS!!! Try # 12 , Num of samples: 510 , error_rate: 0.25 KEYS: [0 0 0 0 1 0 1 0] [0 0 0 0 1 0 1 0]\n",
      "SUCCESS!!! Try # 12 , Num of samples: 561 , error_rate: 0.25 KEYS: [1 0 0 1 1 1 1 1] [1 0 0 1 1 1 1 1]\n",
      "SUCCESS!!! Try # 8 , Num of samples: 612 , error_rate: 0.25 KEYS: [1 1 0 0 1 1 1 0] [1 1 0 0 1 1 1 0]\n",
      "SUCCESS!!! Try # 2 , Num of samples: 663 , error_rate: 0.25 KEYS: [0 0 1 0 0 1 0 0] [0 0 1 0 0 1 0 0]\n",
      "SUCCESS!!! Try # 1 , Num of samples: 714 , error_rate: 0.25 KEYS: [0 1 1 1 0 0 0 1] [0 1 1 1 0 0 0 1]\n",
      "SUCCESS!!! Try # 4 , Num of samples: 765 , error_rate: 0.25 KEYS: [0 0 0 0 1 0 1 0] [0 0 0 0 1 0 1 0]\n",
      "SUCCESS!!! Try # 1 , Num of samples: 816 , error_rate: 0.25 KEYS: [0 0 1 0 0 1 1 1] [0 0 1 0 0 1 1 1]\n",
      "SUCCESS!!! Try # 1 , Num of samples: 867 , error_rate: 0.25 KEYS: [1 0 0 1 0 1 1 0] [1 0 0 1 0 1 1 0]\n",
      "SUCCESS!!! Try # 4 , Num of samples: 918 , error_rate: 0.25 KEYS: [0 0 0 1 0 0 1 0] [0 0 0 1 0 0 1 0]\n",
      "SUCCESS!!! Try # 5 , Num of samples: 969 , error_rate: 0.25 KEYS: [1 1 0 1 0 0 0 0] [1 1 0 1 0 0 0 0]\n",
      "SUCCESS!!! Try # 6 , Num of samples: 1020 , error_rate: 0.25 KEYS: [0 1 1 0 0 1 1 0] [0 1 1 0 0 1 1 0]\n",
      "SUCCESS!!! Try # 0 , Num of samples: 80 , error_rate: 0.3 KEYS: [1 1 0 0 0 0 0 0] [1 0 1 0 0 0 1 1]\n",
      "SUCCESS!!! Try # 0 , Num of samples: 160 , error_rate: 0.3 KEYS: [1 0 1 1 1 1 1 0] [0 0 0 1 0 0 1 0]\n",
      "SUCCESS!!! Try # 2 , Num of samples: 240 , error_rate: 0.3 KEYS: [1 1 0 1 0 1 0 0] [1 1 0 1 0 1 0 0]\n",
      "SUCCESS!!! Try # 5 , Num of samples: 320 , error_rate: 0.3 KEYS: [0 0 0 1 1 1 1 1] [0 0 0 1 1 0 1 1]\n"
     ]
    },
    {
     "name": "stdout",
     "output_type": "stream",
     "text": [
      "SUCCESS!!! Try # 28 , Num of samples: 400 , error_rate: 0.3 KEYS: [1 1 1 0 0 0 0 0] [1 1 1 0 0 0 0 0]\n",
      "SUCCESS!!! Try # 4 , Num of samples: 480 , error_rate: 0.3 KEYS: [0 1 1 0 0 1 0 0] [0 1 1 0 0 1 0 0]\n",
      "SUCCESS!!! Try # 0 , Num of samples: 560 , error_rate: 0.3 KEYS: [0 1 0 0 0 1 0 0] [0 1 0 0 0 1 0 0]\n",
      "SUCCESS!!! Try # 39 , Num of samples: 640 , error_rate: 0.3 KEYS: [0 1 1 0 1 0 1 1] [0 1 1 0 1 0 1 1]\n",
      "SUCCESS!!! Try # 22 , Num of samples: 720 , error_rate: 0.3 KEYS: [0 1 1 0 0 0 0 0] [0 1 1 0 0 0 0 0]\n",
      "SUCCESS!!! Try # 9 , Num of samples: 800 , error_rate: 0.3 KEYS: [0 0 0 0 0 0 1 1] [0 0 0 0 0 0 1 1]\n",
      "SUCCESS!!! Try # 3 , Num of samples: 880 , error_rate: 0.3 KEYS: [0 1 0 0 0 0 1 0] [0 1 0 0 0 0 1 0]\n",
      "SUCCESS!!! Try # 0 , Num of samples: 960 , error_rate: 0.3 KEYS: [1 1 0 0 0 1 0 0] [1 1 0 0 0 1 0 0]\n",
      "SUCCESS!!! Try # 2 , Num of samples: 1040 , error_rate: 0.3 KEYS: [1 1 1 1 0 1 0 1] [1 1 1 1 0 1 0 1]\n",
      "SUCCESS!!! Try # 4 , Num of samples: 1120 , error_rate: 0.3 KEYS: [0 0 0 0 1 0 1 1] [0 0 0 0 1 0 1 1]\n",
      "SUCCESS!!! Try # 6 , Num of samples: 1200 , error_rate: 0.3 KEYS: [0 1 1 0 0 1 0 0] [0 1 1 0 0 1 0 0]\n",
      "SUCCESS!!! Try # 9 , Num of samples: 1280 , error_rate: 0.3 KEYS: [0 0 0 1 0 1 0 1] [0 0 0 1 0 1 0 1]\n",
      "SUCCESS!!! Try # 5 , Num of samples: 1360 , error_rate: 0.3 KEYS: [0 1 1 0 0 1 0 0] [0 1 1 0 0 1 0 0]\n",
      "SUCCESS!!! Try # 0 , Num of samples: 1440 , error_rate: 0.3 KEYS: [1 1 0 0 1 1 1 0] [1 1 0 0 1 1 1 0]\n",
      "SUCCESS!!! Try # 3 , Num of samples: 1520 , error_rate: 0.3 KEYS: [1 1 1 1 1 0 1 1] [1 1 1 1 1 0 1 1]\n",
      "SUCCESS!!! Try # 0 , Num of samples: 142 , error_rate: 0.35 KEYS: [1 0 1 0 0 0 1 1] [1 0 1 0 1 1 0 0]\n",
      "SUCCESS!!! Try # 0 , Num of samples: 284 , error_rate: 0.35 KEYS: [1 1 1 0 0 0 1 1] [1 0 1 1 0 0 0 0]\n",
      "SUCCESS!!! Try # 1 , Num of samples: 426 , error_rate: 0.35 KEYS: [0 1 1 0 0 0 1 1] [0 1 0 1 0 0 1 1]\n",
      "SUCCESS!!! Try # 1 , Num of samples: 568 , error_rate: 0.35 KEYS: [1 0 1 1 0 1 0 1] [1 0 0 0 0 1 0 0]\n",
      "SUCCESS!!! Try # 6 , Num of samples: 710 , error_rate: 0.35 KEYS: [0 0 0 0 0 0 0 0] [0 0 0 0 0 0 0 0]\n",
      "SUCCESS!!! Try # 35 , Num of samples: 852 , error_rate: 0.35 KEYS: [0 1 1 1 1 0 0 0] [0 1 1 1 1 0 0 0]\n",
      "SUCCESS!!! Try # 17 , Num of samples: 994 , error_rate: 0.35 KEYS: [0 1 1 1 1 1 1 1] [0 1 1 1 1 1 1 1]\n",
      "SUCCESS!!! Try # 23 , Num of samples: 1136 , error_rate: 0.35 KEYS: [1 0 0 1 0 0 0 0] [1 0 0 1 0 0 0 0]\n",
      "SUCCESS!!! Try # 51 , Num of samples: 1278 , error_rate: 0.35 KEYS: [1 0 1 1 1 0 0 0] [1 0 1 1 1 0 0 0]\n",
      "SUCCESS!!! Try # 8 , Num of samples: 1420 , error_rate: 0.35 KEYS: [0 0 0 1 1 0 1 0] [0 0 0 1 1 0 1 0]\n",
      "SUCCESS!!! Try # 1 , Num of samples: 1562 , error_rate: 0.35 KEYS: [1 0 1 0 0 1 0 0] [1 0 1 0 0 1 0 0]\n",
      "SUCCESS!!! Try # 1 , Num of samples: 1704 , error_rate: 0.35 KEYS: [0 0 1 1 0 1 0 1] [0 0 1 1 0 1 0 1]\n",
      "SUCCESS!!! Try # 4 , Num of samples: 1846 , error_rate: 0.35 KEYS: [0 1 1 0 0 1 0 1] [0 1 1 0 0 1 0 1]\n",
      "SUCCESS!!! Try # 14 , Num of samples: 1988 , error_rate: 0.35 KEYS: [1 1 0 1 1 0 0 1] [1 1 0 1 1 0 0 1]\n",
      "SUCCESS!!! Try # 8 , Num of samples: 2130 , error_rate: 0.35 KEYS: [1 0 0 0 0 1 0 1] [1 0 0 0 0 1 0 1]\n",
      "SUCCESS!!! Try # 1 , Num of samples: 2272 , error_rate: 0.35 KEYS: [1 1 1 1 1 1 0 1] [1 1 1 1 1 1 0 1]\n",
      "SUCCESS!!! Try # 4 , Num of samples: 2414 , error_rate: 0.35 KEYS: [1 0 0 1 1 0 1 0] [1 0 0 1 1 0 1 0]\n",
      "SUCCESS!!! Try # 4 , Num of samples: 2556 , error_rate: 0.35 KEYS: [0 1 1 0 0 0 1 0] [0 1 1 0 0 0 1 0]\n",
      "SUCCESS!!! Try # 6 , Num of samples: 2698 , error_rate: 0.35 KEYS: [0 0 1 0 1 0 1 0] [0 0 1 0 1 0 1 0]\n",
      "SUCCESS!!! Try # 3 , Num of samples: 2840 , error_rate: 0.35 KEYS: [1 0 1 1 0 1 1 1] [1 0 1 1 0 1 1 1]\n",
      "SUCCESS!!! Try # 0 , Num of samples: 320 , error_rate: 0.4 KEYS: [1 0 0 1 0 0 1 0] [1 1 0 1 0 0 0 0]\n",
      "SUCCESS!!! Try # 0 , Num of samples: 640 , error_rate: 0.4 KEYS: [1 1 0 1 0 0 0 1] [0 1 1 0 1 0 1 1]\n",
      "SUCCESS!!! Try # 0 , Num of samples: 960 , error_rate: 0.4 KEYS: [0 1 0 0 1 1 1 1] [1 1 0 0 1 1 1 0]\n",
      "SUCCESS!!! Try # 3 , Num of samples: 1280 , error_rate: 0.4 KEYS: [0 0 0 0 1 1 0 0] [0 0 0 0 1 1 0 0]\n",
      "SUCCESS!!! Try # 0 , Num of samples: 1600 , error_rate: 0.4 KEYS: [0 1 1 1 1 1 0 1] [0 1 1 1 1 1 0 1]\n",
      "SUCCESS!!! Try # 21 , Num of samples: 1920 , error_rate: 0.4 KEYS: [1 1 0 1 1 1 0 0] [1 1 0 1 1 1 0 0]\n",
      "SUCCESS!!! Try # 15 , Num of samples: 2240 , error_rate: 0.4 KEYS: [0 1 0 1 1 1 1 1] [0 1 0 1 1 1 1 1]\n",
      "SUCCESS!!! Try # 5 , Num of samples: 2560 , error_rate: 0.4 KEYS: [0 1 0 0 0 0 0 1] [0 1 0 0 0 0 0 1]\n",
      "SUCCESS!!! Try # 2 , Num of samples: 2880 , error_rate: 0.4 KEYS: [1 0 0 0 0 1 0 1] [1 0 0 0 0 1 0 1]\n",
      "SUCCESS!!! Try # 1 , Num of samples: 3200 , error_rate: 0.4 KEYS: [1 1 1 0 0 1 1 1] [1 1 1 0 0 1 1 1]\n",
      "SUCCESS!!! Try # 2 , Num of samples: 3520 , error_rate: 0.4 KEYS: [1 1 0 0 1 1 1 1] [1 1 0 0 1 1 1 1]\n",
      "SUCCESS!!! Try # 4 , Num of samples: 3840 , error_rate: 0.4 KEYS: [0 1 1 0 1 1 0 0] [0 1 1 0 1 1 0 0]\n",
      "SUCCESS!!! Try # 1 , Num of samples: 4160 , error_rate: 0.4 KEYS: [1 1 1 1 0 1 1 0] [1 1 1 1 0 1 1 0]\n",
      "SUCCESS!!! Try # 0 , Num of samples: 4480 , error_rate: 0.4 KEYS: [0 1 1 0 0 1 0 0] [0 1 1 0 0 1 0 0]\n",
      "SUCCESS!!! Try # 0 , Num of samples: 4800 , error_rate: 0.4 KEYS: [0 1 1 0 0 0 0 1] [0 1 1 0 0 0 0 1]\n",
      "SUCCESS!!! Try # 2 , Num of samples: 5120 , error_rate: 0.4 KEYS: [0 0 0 0 0 0 1 0] [0 0 0 0 0 0 1 0]\n",
      "SUCCESS!!! Try # 1 , Num of samples: 5440 , error_rate: 0.4 KEYS: [1 1 0 0 1 1 1 0] [1 1 0 0 1 1 1 0]\n",
      "SUCCESS!!! Try # 2 , Num of samples: 5760 , error_rate: 0.4 KEYS: [0 0 0 0 1 1 1 0] [0 0 0 0 1 1 1 0]\n",
      "SUCCESS!!! Try # 3 , Num of samples: 6080 , error_rate: 0.4 KEYS: [1 0 1 1 0 1 1 0] [1 0 1 1 0 1 1 0]\n",
      "SUCCESS!!! Try # 0 , Num of samples: 1280 , error_rate: 0.45 KEYS: [1 1 0 0 0 0 1 1] [1 0 0 0 1 0 0 0]\n",
      "SUCCESS!!! Try # 0 , Num of samples: 2560 , error_rate: 0.45 KEYS: [1 1 1 1 0 1 1 0] [0 1 1 1 0 1 1 0]\n",
      "SUCCESS!!! Try # 2 , Num of samples: 3840 , error_rate: 0.45 KEYS: [1 1 0 0 1 0 0 0] [1 1 0 0 1 0 0 1]\n",
      "SUCCESS!!! Try # 2 , Num of samples: 5120 , error_rate: 0.45 KEYS: [0 1 0 1 0 0 0 1] [1 1 1 1 0 0 1 0]\n",
      "SUCCESS!!! Try # 3 , Num of samples: 6400 , error_rate: 0.45 KEYS: [1 0 0 1 1 0 0 1] [1 0 0 1 1 0 0 1]\n",
      "SUCCESS!!! Try # 6 , Num of samples: 7680 , error_rate: 0.45 KEYS: [1 0 1 1 0 1 1 0] [1 0 1 1 0 1 1 0]\n",
      "SUCCESS!!! Try # 11 , Num of samples: 8960 , error_rate: 0.45 KEYS: [0 0 1 1 0 1 1 1] [0 0 1 1 0 1 1 1]\n",
      "SUCCESS!!! Try # 3 , Num of samples: 10240 , error_rate: 0.45 KEYS: [1 1 1 1 1 0 1 0] [1 1 1 1 1 0 1 0]\n",
      "SUCCESS!!! Try # 29 , Num of samples: 11520 , error_rate: 0.45 KEYS: [0 0 1 0 0 1 1 0] [0 0 1 0 0 1 1 0]\n",
      "SUCCESS!!! Try # 8 , Num of samples: 12800 , error_rate: 0.45 KEYS: [0 1 1 1 1 0 0 1] [0 1 1 1 1 0 0 1]\n",
      "SUCCESS!!! Try # 12 , Num of samples: 14080 , error_rate: 0.45 KEYS: [1 0 0 0 1 1 0 1] [1 0 0 0 1 1 0 1]\n",
      "SUCCESS!!! Try # 2 , Num of samples: 15360 , error_rate: 0.45 KEYS: [0 1 1 0 0 0 0 0] [0 1 1 0 0 0 0 0]\n",
      "SUCCESS!!! Try # 5 , Num of samples: 16640 , error_rate: 0.45 KEYS: [0 0 0 0 1 0 1 0] [0 0 0 0 1 0 1 0]\n",
      "SUCCESS!!! Try # 4 , Num of samples: 17920 , error_rate: 0.45 KEYS: [1 0 1 0 0 0 1 0] [1 0 1 0 0 0 1 0]\n",
      "SUCCESS!!! Try # 0 , Num of samples: 19200 , error_rate: 0.45 KEYS: [0 0 0 1 1 0 0 1] [0 0 0 1 1 0 0 1]\n",
      "SUCCESS!!! Try # 4 , Num of samples: 20480 , error_rate: 0.45 KEYS: [0 1 0 1 1 1 0 1] [0 1 0 1 1 1 0 1]\n",
      "SUCCESS!!! Try # 2 , Num of samples: 21760 , error_rate: 0.45 KEYS: [0 1 1 1 1 1 0 1] [0 1 1 1 1 1 0 1]\n",
      "SUCCESS!!! Try # 0 , Num of samples: 23040 , error_rate: 0.45 KEYS: [0 0 1 0 1 1 1 0] [0 0 1 0 1 1 1 0]\n",
      "SUCCESS!!! Try # 1 , Num of samples: 24320 , error_rate: 0.45 KEYS: [1 0 0 1 1 0 0 0] [1 0 0 1 1 0 0 0]\n"
     ]
    },
    {
     "data": {
      "text/plain": [
       "{'error_rate': [], 'samples': [], 'count': [], 'total_count': []}"
      ]
     },
     "execution_count": 48,
     "metadata": {},
     "output_type": "execute_result"
    }
   ],
   "source": [
    "dim = 8\n",
    "data = {'error_rate':[], 'samples':[], 'count': [], 'total_count': []}  \n",
    "df = pd.DataFrame(data)\n",
    "\n",
    "for error_perc in range(10, 50, 5):\n",
    "    error_rate = error_perc / 100\n",
    "    num_of_samples = math.floor(4*dim/(0.5 - error_rate)/(0.5 - error_rate))\n",
    "    for m in range(math.floor(0.1*num_of_samples), 2*num_of_samples, math.floor(0.1*num_of_samples)):\n",
    "        secret_key = np.random.randint(0, 2, dim)\n",
    "        lpn = LPNOracle(secret_key, error_rate)\n",
    "        count = 0\n",
    "        is_correct = True\n",
    "        while(True):\n",
    "            A, b = lpn.sample(m)\n",
    "            s_candidate = generate_candidate(m, dim)\n",
    "            check = test_hypothesis(s_candidate, m, error_rate, dim)\n",
    "            if check:\n",
    "                break\n",
    "            if count >= m*5:\n",
    "                print(\"FAIL!!! Num of samples:\", m, ', error_rate:', error_rate)\n",
    "                is_correct = False\n",
    "                break\n",
    "            count = count+1\n",
    "        df.loc[len(df.index)] = [error_rate, m, count, m*10]\n",
    "        if is_correct:\n",
    "            print(\"SUCCESS!!! Try #\", count, ', Num of samples:', m, ', error_rate:', error_rate, 'KEYS:', s_candidate, secret_key)\n",
    "\n",
    "data"
   ]
  },
  {
   "cell_type": "markdown",
   "id": "4d3c7f84",
   "metadata": {},
   "source": [
    "Масштабируем полученный датасет"
   ]
  },
  {
   "cell_type": "code",
   "execution_count": 59,
   "id": "9ab2bdd2",
   "metadata": {},
   "outputs": [
    {
     "data": {
      "text/html": [
       "<div>\n",
       "<style scoped>\n",
       "    .dataframe tbody tr th:only-of-type {\n",
       "        vertical-align: middle;\n",
       "    }\n",
       "\n",
       "    .dataframe tbody tr th {\n",
       "        vertical-align: top;\n",
       "    }\n",
       "\n",
       "    .dataframe thead th {\n",
       "        text-align: right;\n",
       "    }\n",
       "</style>\n",
       "<table border=\"1\" class=\"dataframe\">\n",
       "  <thead>\n",
       "    <tr style=\"text-align: right;\">\n",
       "      <th></th>\n",
       "      <th>error_rate</th>\n",
       "      <th>samples</th>\n",
       "      <th>count</th>\n",
       "      <th>total_count</th>\n",
       "    </tr>\n",
       "  </thead>\n",
       "  <tbody>\n",
       "    <tr>\n",
       "      <th>0</th>\n",
       "      <td>0.0</td>\n",
       "      <td>0.000000</td>\n",
       "      <td>0.000000</td>\n",
       "      <td>0.000000</td>\n",
       "    </tr>\n",
       "    <tr>\n",
       "      <th>1</th>\n",
       "      <td>0.0</td>\n",
       "      <td>0.000823</td>\n",
       "      <td>0.021978</td>\n",
       "      <td>0.000823</td>\n",
       "    </tr>\n",
       "    <tr>\n",
       "      <th>2</th>\n",
       "      <td>0.0</td>\n",
       "      <td>0.001646</td>\n",
       "      <td>0.000000</td>\n",
       "      <td>0.001646</td>\n",
       "    </tr>\n",
       "    <tr>\n",
       "      <th>3</th>\n",
       "      <td>0.0</td>\n",
       "      <td>0.002469</td>\n",
       "      <td>0.043956</td>\n",
       "      <td>0.002469</td>\n",
       "    </tr>\n",
       "    <tr>\n",
       "      <th>4</th>\n",
       "      <td>0.0</td>\n",
       "      <td>0.003292</td>\n",
       "      <td>0.758242</td>\n",
       "      <td>0.003292</td>\n",
       "    </tr>\n",
       "    <tr>\n",
       "      <th>...</th>\n",
       "      <td>...</td>\n",
       "      <td>...</td>\n",
       "      <td>...</td>\n",
       "      <td>...</td>\n",
       "    </tr>\n",
       "    <tr>\n",
       "      <th>151</th>\n",
       "      <td>1.0</td>\n",
       "      <td>0.789300</td>\n",
       "      <td>0.000000</td>\n",
       "      <td>0.789300</td>\n",
       "    </tr>\n",
       "    <tr>\n",
       "      <th>152</th>\n",
       "      <td>1.0</td>\n",
       "      <td>0.841975</td>\n",
       "      <td>0.043956</td>\n",
       "      <td>0.841975</td>\n",
       "    </tr>\n",
       "    <tr>\n",
       "      <th>153</th>\n",
       "      <td>1.0</td>\n",
       "      <td>0.894650</td>\n",
       "      <td>0.021978</td>\n",
       "      <td>0.894650</td>\n",
       "    </tr>\n",
       "    <tr>\n",
       "      <th>154</th>\n",
       "      <td>1.0</td>\n",
       "      <td>0.947325</td>\n",
       "      <td>0.000000</td>\n",
       "      <td>0.947325</td>\n",
       "    </tr>\n",
       "    <tr>\n",
       "      <th>155</th>\n",
       "      <td>1.0</td>\n",
       "      <td>1.000000</td>\n",
       "      <td>0.010989</td>\n",
       "      <td>1.000000</td>\n",
       "    </tr>\n",
       "  </tbody>\n",
       "</table>\n",
       "<p>156 rows × 4 columns</p>\n",
       "</div>"
      ],
      "text/plain": [
       "     error_rate   samples     count  total_count\n",
       "0           0.0  0.000000  0.000000     0.000000\n",
       "1           0.0  0.000823  0.021978     0.000823\n",
       "2           0.0  0.001646  0.000000     0.001646\n",
       "3           0.0  0.002469  0.043956     0.002469\n",
       "4           0.0  0.003292  0.758242     0.003292\n",
       "..          ...       ...       ...          ...\n",
       "151         1.0  0.789300  0.000000     0.789300\n",
       "152         1.0  0.841975  0.043956     0.841975\n",
       "153         1.0  0.894650  0.021978     0.894650\n",
       "154         1.0  0.947325  0.000000     0.947325\n",
       "155         1.0  1.000000  0.010989     1.000000\n",
       "\n",
       "[156 rows x 4 columns]"
      ]
     },
     "execution_count": 59,
     "metadata": {},
     "output_type": "execute_result"
    }
   ],
   "source": [
    "scaler = preprocessing.MinMaxScaler()\n",
    "dfCopy = df.copy()\n",
    "\n",
    "number_cols = dfCopy.select_dtypes(exclude=['object'])\n",
    "\n",
    "for col_name in number_cols.columns:\n",
    "    dfCopy[col_name] = scaler.fit_transform(dfCopy[[col_name]])\n",
    "\n",
    "dfCopy"
   ]
  },
  {
   "cell_type": "code",
   "execution_count": 60,
   "id": "64dc0137",
   "metadata": {},
   "outputs": [],
   "source": [
    "dfs = dict(tuple(dfCopy.groupby('error_rate')))"
   ]
  },
  {
   "cell_type": "code",
   "execution_count": 72,
   "id": "95ae46ac",
   "metadata": {
    "scrolled": true
   },
   "outputs": [
    {
     "data": {
      "image/png": "[encoded data removed]",
      "text/plain": [
       "<Figure size 864x864 with 8 Axes>"
      ]
     },
     "metadata": {
      "needs_background": "light"
     },
     "output_type": "display_data"
    }
   ],
   "source": [
    "import seaborn as sns\n",
    "\n",
    "g = sns.FacetGrid(df, col='error_rate',col_wrap=3, height=4)\n",
    "g = (g.map(sns.distplot, \"count\", hist=False, rug=True))"
   ]
  },
  {
   "cell_type": "code",
   "execution_count": 73,
   "id": "a7a69ac5",
   "metadata": {},
   "outputs": [
    {
     "data": {
      "text/plain": [
       "<seaborn.axisgrid.PairGrid at 0x21882a4a3c8>"
      ]
     },
     "execution_count": 73,
     "metadata": {},
     "output_type": "execute_result"
    },
    {
     "data": {
      "image/png": "[encoded data removed]",
      "text/plain": [
       "<Figure size 540x540 with 12 Axes>"
      ]
     },
     "metadata": {
      "needs_background": "light"
     },
     "output_type": "display_data"
    }
   ],
   "source": [
    "sns.pairplot(df[[\"error_rate\",\"samples\",\"count\"]])"
   ]
  },
  {
   "cell_type": "markdown",
   "id": "82ec87e7",
   "metadata": {},
   "source": [
    "# Список используемой литературы"
   ]
  },
  {
   "cell_type": "markdown",
   "id": "e712bfbb",
   "metadata": {},
   "source": [
    "1. [N. Hopper and M. Blum, Secure human identification protocols (2001)](https://link.springer.com/chapter/10.1007/3-540-45682-1_4)\n",
    "2. [ R. Kübler, Time-Memory Trade-Offs for the Learning Parity with Noise Problem (2018)](https://hss-opus.ub.ruhr-uni-bochum.de/opus4/frontdoor/deliver/index/docId/5940/file/diss.pdf)"
   ]
  }
 ],
 "metadata": {
  "kernelspec": {
   "display_name": "Python 3 (ipykernel)",
   "language": "python",
   "name": "python3"
  },
  "language_info": {
   "codemirror_mode": {
    "name": "ipython",
    "version": 3
   },
   "file_extension": ".py",
   "mimetype": "text/x-python",
   "name": "python",
   "nbconvert_exporter": "python",
   "pygments_lexer": "ipython3",
   "version": "3.7.6"
  }
 },
 "nbformat": 4,
 "nbformat_minor": 5
}
