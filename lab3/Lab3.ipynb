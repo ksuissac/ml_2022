{
 "cells": [
  {
   "cell_type": "markdown",
   "id": "041fe109",
   "metadata": {},
   "source": [
    "# Лабораторная работа №3\n",
    "## Подготовка обучающей и тестовой выборки, кросс-валидация и подбор гиперпараметров на примере метода ближайших соседей "
   ]
  },
  {
   "cell_type": "markdown",
   "id": "91ee84be",
   "metadata": {},
   "source": [
    "Загрузим все необходимые библиотеки"
   ]
  },
  {
   "cell_type": "code",
   "execution_count": 1,
   "id": "bc0ac1a7",
   "metadata": {},
   "outputs": [],
   "source": [
    "import pandas as pd\n",
    "from sklearn.model_selection import train_test_split\n",
    "import numpy as np\n",
    "import matplotlib.pyplot as plt\n",
    "from sklearn.metrics import mean_squared_error, r2_score \n",
    "import seaborn as sns\n",
    "from sklearn.neighbors import KNeighborsRegressor\n",
    "from sklearn.model_selection import GridSearchCV\n",
    "from sklearn.model_selection import KFold, RepeatedKFold"
   ]
  },
  {
   "cell_type": "markdown",
   "id": "fc4f4b1f",
   "metadata": {},
   "source": [
    "В качестве датасета выберем набор данных сна за месяц"
   ]
  },
  {
   "cell_type": "code",
   "execution_count": 2,
   "id": "63c05006",
   "metadata": {},
   "outputs": [],
   "source": [
    "df = pd.read_csv(\"Sleep_data.csv\")\n",
    "df = df.dropna()"
   ]
  },
  {
   "cell_type": "code",
   "execution_count": 3,
   "id": "e81309ed",
   "metadata": {},
   "outputs": [
    {
     "data": {
      "text/html": [
       "<div>\n",
       "<style scoped>\n",
       "    .dataframe tbody tr th:only-of-type {\n",
       "        vertical-align: middle;\n",
       "    }\n",
       "\n",
       "    .dataframe tbody tr th {\n",
       "        vertical-align: top;\n",
       "    }\n",
       "\n",
       "    .dataframe thead th {\n",
       "        text-align: right;\n",
       "    }\n",
       "</style>\n",
       "<table border=\"1\" class=\"dataframe\">\n",
       "  <thead>\n",
       "    <tr style=\"text-align: right;\">\n",
       "      <th></th>\n",
       "      <th>DECEMBER</th>\n",
       "      <th>DATE</th>\n",
       "      <th>SLEEP SCORE</th>\n",
       "      <th>HOURS OF SLEEP</th>\n",
       "      <th>REM SLEEP</th>\n",
       "      <th>DEEP SLEEP</th>\n",
       "      <th>HEART RATE BELOW RESTING</th>\n",
       "      <th>SLEEP TIME</th>\n",
       "    </tr>\n",
       "  </thead>\n",
       "  <tbody>\n",
       "    <tr>\n",
       "      <th>1</th>\n",
       "      <td>Wednesday</td>\n",
       "      <td>12/01/2021</td>\n",
       "      <td>91.0</td>\n",
       "      <td>7:33:00</td>\n",
       "      <td>23.00%</td>\n",
       "      <td>19.00%</td>\n",
       "      <td>98.00%</td>\n",
       "      <td>10:56pm - 7:20am</td>\n",
       "    </tr>\n",
       "    <tr>\n",
       "      <th>2</th>\n",
       "      <td>Thursday</td>\n",
       "      <td>12/02/2021</td>\n",
       "      <td>81.0</td>\n",
       "      <td>7:17:00</td>\n",
       "      <td>16.00%</td>\n",
       "      <td>13.00%</td>\n",
       "      <td>94.00%</td>\n",
       "      <td>10:45pm - 6:58am</td>\n",
       "    </tr>\n",
       "    <tr>\n",
       "      <th>3</th>\n",
       "      <td>Friday</td>\n",
       "      <td>12/03/2021</td>\n",
       "      <td>80.0</td>\n",
       "      <td>7:17:00</td>\n",
       "      <td>15.00%</td>\n",
       "      <td>17.00%</td>\n",
       "      <td>78.00%</td>\n",
       "      <td>10:51pm - 7:02am</td>\n",
       "    </tr>\n",
       "    <tr>\n",
       "      <th>4</th>\n",
       "      <td>Saturday</td>\n",
       "      <td>12/04/2021</td>\n",
       "      <td>85.0</td>\n",
       "      <td>8:23:00</td>\n",
       "      <td>20.00%</td>\n",
       "      <td>15.00%</td>\n",
       "      <td>58.00%</td>\n",
       "      <td>9:53pm - 7:17am</td>\n",
       "    </tr>\n",
       "    <tr>\n",
       "      <th>5</th>\n",
       "      <td>Sunday</td>\n",
       "      <td>12/05/2021</td>\n",
       "      <td>82.0</td>\n",
       "      <td>7:19:00</td>\n",
       "      <td>20.00%</td>\n",
       "      <td>12.00%</td>\n",
       "      <td>79.00%</td>\n",
       "      <td>11:54pm - 8:16am</td>\n",
       "    </tr>\n",
       "  </tbody>\n",
       "</table>\n",
       "</div>"
      ],
      "text/plain": [
       "    DECEMBER        DATE  SLEEP SCORE HOURS OF SLEEP REM SLEEP DEEP SLEEP  \\\n",
       "1  Wednesday  12/01/2021         91.0        7:33:00    23.00%     19.00%   \n",
       "2   Thursday  12/02/2021         81.0        7:17:00    16.00%     13.00%   \n",
       "3     Friday  12/03/2021         80.0        7:17:00    15.00%     17.00%   \n",
       "4   Saturday  12/04/2021         85.0        8:23:00    20.00%     15.00%   \n",
       "5     Sunday  12/05/2021         82.0        7:19:00    20.00%     12.00%   \n",
       "\n",
       "  HEART RATE BELOW RESTING        SLEEP TIME  \n",
       "1                   98.00%  10:56pm - 7:20am  \n",
       "2                   94.00%  10:45pm - 6:58am  \n",
       "3                   78.00%  10:51pm - 7:02am  \n",
       "4                   58.00%   9:53pm - 7:17am  \n",
       "5                   79.00%  11:54pm - 8:16am  "
      ]
     },
     "execution_count": 3,
     "metadata": {},
     "output_type": "execute_result"
    }
   ],
   "source": [
    "df = df.dropna()\n",
    "df.head()\n"
   ]
  },
  {
   "cell_type": "code",
   "execution_count": 4,
   "id": "24150faf",
   "metadata": {},
   "outputs": [
    {
     "data": {
      "text/plain": [
       "(31, 8)"
      ]
     },
     "execution_count": 4,
     "metadata": {},
     "output_type": "execute_result"
    }
   ],
   "source": [
    "df.shape"
   ]
  },
  {
   "cell_type": "markdown",
   "id": "b1caa684",
   "metadata": {},
   "source": [
    "### Обучающая и тестовая выборка\n",
    "- В качестве обучающей выборки будем использовать время в часах и минутах\n",
    "- В качестве целевого признака будет выступать оценка качества сна\n",
    "- Алгоритм KNN будет решать задачу регрессии"
   ]
  },
  {
   "cell_type": "code",
   "execution_count": 5,
   "id": "f60e0ba9",
   "metadata": {},
   "outputs": [
    {
     "data": {
      "text/plain": [
       "1     7:33:00\n",
       "2     7:17:00\n",
       "3     7:17:00\n",
       "4     8:23:00\n",
       "5     7:19:00\n",
       "6     7:18:00\n",
       "7     8:02:00\n",
       "8     6:47:00\n",
       "9     7:32:00\n",
       "10    7:45:00\n",
       "11    7:57:00\n",
       "12    6:47:00\n",
       "13    8:33:00\n",
       "14    7:33:00\n",
       "15    7:08:00\n",
       "16    6:34:00\n",
       "17    7:18:00\n",
       "18    8:14:00\n",
       "19    7:08:00\n",
       "20    7:06:00\n",
       "21    8:26:00\n",
       "22    7:29:00\n",
       "23    8:37:00\n",
       "24    9:03:00\n",
       "25    6:39:00\n",
       "26    7:51:00\n",
       "27    7:06:00\n",
       "28    6:57:00\n",
       "29    7:23:00\n",
       "30    7:48:00\n",
       "31    8:09:00\n",
       "Name: HOURS OF SLEEP, dtype: object"
      ]
     },
     "execution_count": 5,
     "metadata": {},
     "output_type": "execute_result"
    }
   ],
   "source": [
    "df[\"HOURS OF SLEEP\"]"
   ]
  },
  {
   "cell_type": "code",
   "execution_count": 6,
   "id": "7aa8cd72",
   "metadata": {},
   "outputs": [
    {
     "data": {
      "text/html": [
       "<div>\n",
       "<style scoped>\n",
       "    .dataframe tbody tr th:only-of-type {\n",
       "        vertical-align: middle;\n",
       "    }\n",
       "\n",
       "    .dataframe tbody tr th {\n",
       "        vertical-align: top;\n",
       "    }\n",
       "\n",
       "    .dataframe thead th {\n",
       "        text-align: right;\n",
       "    }\n",
       "</style>\n",
       "<table border=\"1\" class=\"dataframe\">\n",
       "  <thead>\n",
       "    <tr style=\"text-align: right;\">\n",
       "      <th></th>\n",
       "      <th>h</th>\n",
       "      <th>m</th>\n",
       "      <th>score</th>\n",
       "    </tr>\n",
       "  </thead>\n",
       "  <tbody>\n",
       "    <tr>\n",
       "      <th>1</th>\n",
       "      <td>7</td>\n",
       "      <td>33</td>\n",
       "      <td>91.0</td>\n",
       "    </tr>\n",
       "    <tr>\n",
       "      <th>2</th>\n",
       "      <td>7</td>\n",
       "      <td>17</td>\n",
       "      <td>81.0</td>\n",
       "    </tr>\n",
       "    <tr>\n",
       "      <th>3</th>\n",
       "      <td>7</td>\n",
       "      <td>17</td>\n",
       "      <td>80.0</td>\n",
       "    </tr>\n",
       "    <tr>\n",
       "      <th>4</th>\n",
       "      <td>8</td>\n",
       "      <td>23</td>\n",
       "      <td>85.0</td>\n",
       "    </tr>\n",
       "    <tr>\n",
       "      <th>5</th>\n",
       "      <td>7</td>\n",
       "      <td>19</td>\n",
       "      <td>82.0</td>\n",
       "    </tr>\n",
       "    <tr>\n",
       "      <th>6</th>\n",
       "      <td>7</td>\n",
       "      <td>18</td>\n",
       "      <td>80.0</td>\n",
       "    </tr>\n",
       "    <tr>\n",
       "      <th>7</th>\n",
       "      <td>8</td>\n",
       "      <td>2</td>\n",
       "      <td>89.0</td>\n",
       "    </tr>\n",
       "    <tr>\n",
       "      <th>8</th>\n",
       "      <td>6</td>\n",
       "      <td>47</td>\n",
       "      <td>85.0</td>\n",
       "    </tr>\n",
       "    <tr>\n",
       "      <th>9</th>\n",
       "      <td>7</td>\n",
       "      <td>32</td>\n",
       "      <td>85.0</td>\n",
       "    </tr>\n",
       "    <tr>\n",
       "      <th>10</th>\n",
       "      <td>7</td>\n",
       "      <td>45</td>\n",
       "      <td>87.0</td>\n",
       "    </tr>\n",
       "    <tr>\n",
       "      <th>11</th>\n",
       "      <td>7</td>\n",
       "      <td>57</td>\n",
       "      <td>78.0</td>\n",
       "    </tr>\n",
       "    <tr>\n",
       "      <th>12</th>\n",
       "      <td>6</td>\n",
       "      <td>47</td>\n",
       "      <td>85.0</td>\n",
       "    </tr>\n",
       "    <tr>\n",
       "      <th>13</th>\n",
       "      <td>8</td>\n",
       "      <td>33</td>\n",
       "      <td>87.0</td>\n",
       "    </tr>\n",
       "    <tr>\n",
       "      <th>14</th>\n",
       "      <td>7</td>\n",
       "      <td>33</td>\n",
       "      <td>83.0</td>\n",
       "    </tr>\n",
       "    <tr>\n",
       "      <th>15</th>\n",
       "      <td>7</td>\n",
       "      <td>8</td>\n",
       "      <td>79.0</td>\n",
       "    </tr>\n",
       "    <tr>\n",
       "      <th>16</th>\n",
       "      <td>6</td>\n",
       "      <td>34</td>\n",
       "      <td>74.0</td>\n",
       "    </tr>\n",
       "    <tr>\n",
       "      <th>17</th>\n",
       "      <td>7</td>\n",
       "      <td>18</td>\n",
       "      <td>84.0</td>\n",
       "    </tr>\n",
       "    <tr>\n",
       "      <th>18</th>\n",
       "      <td>8</td>\n",
       "      <td>14</td>\n",
       "      <td>87.0</td>\n",
       "    </tr>\n",
       "    <tr>\n",
       "      <th>19</th>\n",
       "      <td>7</td>\n",
       "      <td>8</td>\n",
       "      <td>83.0</td>\n",
       "    </tr>\n",
       "    <tr>\n",
       "      <th>20</th>\n",
       "      <td>7</td>\n",
       "      <td>6</td>\n",
       "      <td>85.0</td>\n",
       "    </tr>\n",
       "    <tr>\n",
       "      <th>21</th>\n",
       "      <td>8</td>\n",
       "      <td>26</td>\n",
       "      <td>91.0</td>\n",
       "    </tr>\n",
       "    <tr>\n",
       "      <th>22</th>\n",
       "      <td>7</td>\n",
       "      <td>29</td>\n",
       "      <td>88.0</td>\n",
       "    </tr>\n",
       "    <tr>\n",
       "      <th>23</th>\n",
       "      <td>8</td>\n",
       "      <td>37</td>\n",
       "      <td>89.0</td>\n",
       "    </tr>\n",
       "    <tr>\n",
       "      <th>24</th>\n",
       "      <td>9</td>\n",
       "      <td>3</td>\n",
       "      <td>78.0</td>\n",
       "    </tr>\n",
       "    <tr>\n",
       "      <th>25</th>\n",
       "      <td>6</td>\n",
       "      <td>39</td>\n",
       "      <td>75.0</td>\n",
       "    </tr>\n",
       "    <tr>\n",
       "      <th>26</th>\n",
       "      <td>7</td>\n",
       "      <td>51</td>\n",
       "      <td>91.0</td>\n",
       "    </tr>\n",
       "    <tr>\n",
       "      <th>27</th>\n",
       "      <td>7</td>\n",
       "      <td>6</td>\n",
       "      <td>83.0</td>\n",
       "    </tr>\n",
       "    <tr>\n",
       "      <th>28</th>\n",
       "      <td>6</td>\n",
       "      <td>57</td>\n",
       "      <td>85.0</td>\n",
       "    </tr>\n",
       "    <tr>\n",
       "      <th>29</th>\n",
       "      <td>7</td>\n",
       "      <td>23</td>\n",
       "      <td>91.0</td>\n",
       "    </tr>\n",
       "    <tr>\n",
       "      <th>30</th>\n",
       "      <td>7</td>\n",
       "      <td>48</td>\n",
       "      <td>87.0</td>\n",
       "    </tr>\n",
       "    <tr>\n",
       "      <th>31</th>\n",
       "      <td>8</td>\n",
       "      <td>9</td>\n",
       "      <td>89.0</td>\n",
       "    </tr>\n",
       "  </tbody>\n",
       "</table>\n",
       "</div>"
      ],
      "text/plain": [
       "    h   m  score\n",
       "1   7  33   91.0\n",
       "2   7  17   81.0\n",
       "3   7  17   80.0\n",
       "4   8  23   85.0\n",
       "5   7  19   82.0\n",
       "6   7  18   80.0\n",
       "7   8   2   89.0\n",
       "8   6  47   85.0\n",
       "9   7  32   85.0\n",
       "10  7  45   87.0\n",
       "11  7  57   78.0\n",
       "12  6  47   85.0\n",
       "13  8  33   87.0\n",
       "14  7  33   83.0\n",
       "15  7   8   79.0\n",
       "16  6  34   74.0\n",
       "17  7  18   84.0\n",
       "18  8  14   87.0\n",
       "19  7   8   83.0\n",
       "20  7   6   85.0\n",
       "21  8  26   91.0\n",
       "22  7  29   88.0\n",
       "23  8  37   89.0\n",
       "24  9   3   78.0\n",
       "25  6  39   75.0\n",
       "26  7  51   91.0\n",
       "27  7   6   83.0\n",
       "28  6  57   85.0\n",
       "29  7  23   91.0\n",
       "30  7  48   87.0\n",
       "31  8   9   89.0"
      ]
     },
     "execution_count": 6,
     "metadata": {},
     "output_type": "execute_result"
    }
   ],
   "source": [
    "hours = []\n",
    "minutes = []\n",
    "for item in df[\"HOURS OF SLEEP\"]:\n",
    "    hours.append(int(item[0]))\n",
    "    minutes.append(int(item[2:4]))\n",
    "myData = pd.DataFrame({\"h\": hours, \"m\": minutes, \"score\": df[\"SLEEP SCORE\"]})\n",
    "myData"
   ]
  },
  {
   "cell_type": "code",
   "execution_count": 7,
   "id": "ff56f88b",
   "metadata": {},
   "outputs": [],
   "source": [
    "#С помощью метода train_test_split разделим выборку на обучающую и тестовую\n",
    "\n",
    "data= np.array([[myData[\"h\"].iloc[i], myData[\"m\"].iloc[i]] for i in range(myData.shape[0])])\n",
    "target= np.array(myData[\"score\"])\n",
    "trainX, testX, trainY, testY = train_test_split(data, target, train_size=0.9, random_state=1)"
   ]
  },
  {
   "cell_type": "code",
   "execution_count": 8,
   "id": "80cc5475",
   "metadata": {},
   "outputs": [
    {
     "data": {
      "text/plain": [
       "array([[ 6, 57],\n",
       "       [ 8, 23],\n",
       "       [ 7,  6],\n",
       "       [ 9,  3]], dtype=int64)"
      ]
     },
     "execution_count": 8,
     "metadata": {},
     "output_type": "execute_result"
    }
   ],
   "source": [
    "testX"
   ]
  },
  {
   "cell_type": "code",
   "execution_count": 9,
   "id": "f617ae72",
   "metadata": {},
   "outputs": [],
   "source": [
    "from sklearn.neighbors import KNeighborsRegressor\n",
    "neigh = KNeighborsRegressor(n_neighbors=3)\n",
    "neigh.fit(trainX, trainY)\n",
    "pred3_1 = neigh.predict(testX)\n",
    "pred3_2 = neigh.predict(trainX)\n",
    "pred3_1 = [i for  i in pred3_1]\n",
    "pred3_2 = [i for  i in pred3_2]"
   ]
  },
  {
   "cell_type": "code",
   "execution_count": 10,
   "id": "983bfc17",
   "metadata": {},
   "outputs": [],
   "source": [
    "neigh = KNeighborsRegressor(n_neighbors=10)\n",
    "neigh.fit(trainX, trainY)\n",
    "pred10_1 = neigh.predict(testX)\n",
    "pred10_2 = neigh.predict(trainX)\n",
    "pred10_1 = [i for  i in pred10_1]\n",
    "pred10_2 = [i for  i in pred10_2]"
   ]
  },
  {
   "cell_type": "code",
   "execution_count": 11,
   "id": "e734905e",
   "metadata": {},
   "outputs": [
    {
     "name": "stdout",
     "output_type": "stream",
     "text": [
      "Истинные значения:\n",
      "85.0\n",
      "85.0\n",
      "85.0\n",
      "78.0\n"
     ]
    }
   ],
   "source": [
    "print(\"Истинные значения:\")\n",
    "for i in testY:\n",
    "    print(i)"
   ]
  },
  {
   "cell_type": "code",
   "execution_count": 12,
   "id": "a587d43e",
   "metadata": {},
   "outputs": [
    {
     "name": "stdout",
     "output_type": "stream",
     "text": [
      "Предсказания с гиперпараметром 3:\n",
      "85.33333333333333\n",
      "88.0\n",
      "81.66666666666667\n",
      "85.0\n"
     ]
    }
   ],
   "source": [
    "print(\"Предсказания с гиперпараметром 3:\")\n",
    "for i in pred3_1:\n",
    "    print(i)"
   ]
  },
  {
   "cell_type": "code",
   "execution_count": 13,
   "id": "a4a53237",
   "metadata": {
    "scrolled": true
   },
   "outputs": [
    {
     "name": "stdout",
     "output_type": "stream",
     "text": [
      "Предсказания с гиперпараметром 10:\n",
      "83.4\n",
      "84.9\n",
      "83.5\n",
      "83.5\n"
     ]
    }
   ],
   "source": [
    "print(\"Предсказания с гиперпараметром 10:\")\n",
    "for i in pred10_1:\n",
    "    print(i)"
   ]
  },
  {
   "cell_type": "markdown",
   "id": "b5df8d92",
   "metadata": {},
   "source": [
    "## Проверим качество модели с помощью метрик регрессии"
   ]
  },
  {
   "cell_type": "markdown",
   "id": "627d9988",
   "metadata": {},
   "source": [
    "### Метрика Root mean squared error (RMSE)"
   ]
  },
  {
   "cell_type": "code",
   "execution_count": 14,
   "id": "532a1c23",
   "metadata": {},
   "outputs": [
    {
     "name": "stdout",
     "output_type": "stream",
     "text": [
      "Для К=3:\t 3.8522079607466035\t4.1599946581162275\n"
     ]
    }
   ],
   "source": [
    "\n",
    "myrmse3_1 = mean_squared_error(testY, pred3_1, squared=False)\n",
    "myrmse3_2 = mean_squared_error(trainY, pred3_2, squared=False)\n",
    "print(\"Для К=3:\\t {}\\t{}\".format(myrmse3_2, myrmse3_1))"
   ]
  },
  {
   "cell_type": "code",
   "execution_count": 15,
   "id": "68abb015",
   "metadata": {},
   "outputs": [
    {
     "name": "stdout",
     "output_type": "stream",
     "text": [
      "Для К=3:\t 4.696925708493918\t2.960996453898585\n"
     ]
    }
   ],
   "source": [
    "myrmse10_1 = mean_squared_error(testY, pred10_1, squared=False)\n",
    "myrmse10_2 = mean_squared_error(trainY, pred10_2, squared=False)\n",
    "print(\"Для К=3:\\t {}\\t{}\".format(myrmse10_2, myrmse10_1))"
   ]
  },
  {
   "cell_type": "code",
   "execution_count": 16,
   "id": "709ed15a",
   "metadata": {},
   "outputs": [],
   "source": [
    "rmse = []\n",
    "rmse.append(myrmse10_2)\n",
    "rmse.append(myrmse10_1)"
   ]
  },
  {
   "cell_type": "markdown",
   "id": "5b9c8cfc",
   "metadata": {},
   "source": [
    "### Коэффициент детерминации"
   ]
  },
  {
   "cell_type": "code",
   "execution_count": 17,
   "id": "cb1151ff",
   "metadata": {},
   "outputs": [
    {
     "name": "stdout",
     "output_type": "stream",
     "text": [
      "Для К=3:\t -0.8835978835978826\t0.3393991206643868\n"
     ]
    }
   ],
   "source": [
    "r2_1 = r2_score(testY,pred3_1)\n",
    "r2_2 = r2_score(trainY,pred3_2)\n",
    "print(\"Для К=3:\\t {}\\t{}\".format(r2_1, r2_2))"
   ]
  },
  {
   "cell_type": "code",
   "execution_count": 18,
   "id": "c81b872d",
   "metadata": {},
   "outputs": [
    {
     "name": "stdout",
     "output_type": "stream",
     "text": [
      "Для К=10:\t 0.04571428571428626\t0.017919516365413557\n"
     ]
    }
   ],
   "source": [
    "r2_1 = r2_score(testY,pred10_1)\n",
    "r2_2 = r2_score(trainY,pred10_2)\n",
    "print(\"Для К=10:\\t {}\\t{}\".format(r2_1, r2_2))"
   ]
  },
  {
   "cell_type": "markdown",
   "id": "07f272a0",
   "metadata": {},
   "source": [
    "## Подбор гиперпараметра с помощью кросс-валидации\n",
    "Найдём наилучший гиперпараметр используя текущую перестановку"
   ]
  },
  {
   "cell_type": "markdown",
   "id": "cb872528",
   "metadata": {},
   "source": [
    "KFold()"
   ]
  },
  {
   "cell_type": "code",
   "execution_count": 19,
   "id": "3577c3e3",
   "metadata": {},
   "outputs": [
    {
     "data": {
      "text/plain": [
       "GridSearchCV(cv=KFold(n_splits=10, random_state=None, shuffle=False),\n",
       "             estimator=KNeighborsRegressor(),\n",
       "             param_grid=[{'n_neighbors': array([ 1,  2,  3,  4,  5,  6,  7,  8,  9, 10, 11, 12, 13, 14, 15, 16, 17,\n",
       "       18, 19, 20, 21, 22, 23])}],\n",
       "             scoring='neg_root_mean_squared_error')"
      ]
     },
     "execution_count": 19,
     "metadata": {},
     "output_type": "execute_result"
    }
   ],
   "source": [
    "kf = KFold(n_splits=10)\n",
    "r = np.array(range(1,24))\n",
    "params = [{\"n_neighbors\": r}]\n",
    "gs= GridSearchCV(KNeighborsRegressor(), params, cv=kf, scoring=\"neg_root_mean_squared_error\")\n",
    "gs.fit(trainX, trainY)"
   ]
  },
  {
   "cell_type": "code",
   "execution_count": 20,
   "id": "97db74e8",
   "metadata": {},
   "outputs": [
    {
     "data": {
      "text/plain": [
       "Text(0.5, 1.0, 'Гиперпараметр при KFold()')"
      ]
     },
     "execution_count": 20,
     "metadata": {},
     "output_type": "execute_result"
    },
    {
     "data": {
      "image/png": "[encoded data removed]",
      "text/plain": [
       "<Figure size 432x288 with 1 Axes>"
      ]
     },
     "metadata": {
      "needs_background": "light"
     },
     "output_type": "display_data"
    }
   ],
   "source": [
    "plt.plot(r, gs.cv_results_['mean_test_score'])\n",
    "plt.title(\"Гиперпараметр при KFold()\")"
   ]
  },
  {
   "cell_type": "code",
   "execution_count": 21,
   "id": "d260fb57",
   "metadata": {},
   "outputs": [],
   "source": [
    "gs.best_estimator_.fit(trainX, trainY)\n",
    "predGs1 = gs.best_estimator_.predict(testX)\n",
    "predGs2 = gs.best_estimator_.predict(trainX)"
   ]
  },
  {
   "cell_type": "code",
   "execution_count": 22,
   "id": "5f4ad09f",
   "metadata": {},
   "outputs": [
    {
     "data": {
      "text/plain": [
       "(4.1599946581162275, 3.8522079607466035)"
      ]
     },
     "execution_count": 22,
     "metadata": {},
     "output_type": "execute_result"
    }
   ],
   "source": [
    "rmse.append(mean_squared_error(testY, predGs1, squared=False))\n",
    "rmse.append(mean_squared_error(trainY, predGs2, squared=False))\n",
    "(mean_squared_error(testY, predGs1, squared=False), mean_squared_error(trainY, predGs2, squared=False))"
   ]
  },
  {
   "cell_type": "markdown",
   "id": "9a34468b",
   "metadata": {},
   "source": [
    "RepeatedKFold()"
   ]
  },
  {
   "cell_type": "code",
   "execution_count": 23,
   "id": "bdd2cc56",
   "metadata": {},
   "outputs": [
    {
     "data": {
      "text/plain": [
       "GridSearchCV(cv=RepeatedKFold(n_repeats=3, n_splits=10, random_state=None),\n",
       "             estimator=KNeighborsRegressor(),\n",
       "             param_grid=[{'n_neighbors': array([ 1,  2,  3,  4,  5,  6,  7,  8,  9, 10, 11, 12, 13, 14, 15, 16, 17,\n",
       "       18, 19, 20, 21, 22, 23])}],\n",
       "             scoring='neg_root_mean_squared_error')"
      ]
     },
     "execution_count": 23,
     "metadata": {},
     "output_type": "execute_result"
    }
   ],
   "source": [
    "kf = RepeatedKFold(n_splits=10, n_repeats = 3)\n",
    "r = np.array(range(1,24))\n",
    "params = [{\"n_neighbors\": r}]\n",
    "gs2= GridSearchCV(KNeighborsRegressor(), params, cv=kf, scoring=\"neg_root_mean_squared_error\")\n",
    "gs2.fit(trainX, trainY)"
   ]
  },
  {
   "cell_type": "code",
   "execution_count": 24,
   "id": "ee04e376",
   "metadata": {},
   "outputs": [
    {
     "data": {
      "text/plain": [
       "Text(0.5, 1.0, 'Гиперпараметр при RepeatedKFold()')"
      ]
     },
     "execution_count": 24,
     "metadata": {},
     "output_type": "execute_result"
    },
    {
     "data": {
      "image/png": "[encoded data removed]",
      "text/plain": [
       "<Figure size 432x288 with 1 Axes>"
      ]
     },
     "metadata": {
      "needs_background": "light"
     },
     "output_type": "display_data"
    }
   ],
   "source": [
    "plt.plot(r, gs2.cv_results_['mean_test_score'])\n",
    "plt.title(\"Гиперпараметр при RepeatedKFold()\")"
   ]
  },
  {
   "cell_type": "code",
   "execution_count": 25,
   "id": "3e150c46",
   "metadata": {},
   "outputs": [],
   "source": [
    "gs2.best_estimator_.fit(trainX, trainY)\n",
    "predGs1 = gs2.best_estimator_.predict(testX)\n",
    "predGs2 = gs2.best_estimator_.predict(trainX)"
   ]
  },
  {
   "cell_type": "code",
   "execution_count": 26,
   "id": "db2bfe4c",
   "metadata": {},
   "outputs": [
    {
     "data": {
      "text/plain": [
       "(3.256668302076842, 4.741391438833892)"
      ]
     },
     "execution_count": 26,
     "metadata": {},
     "output_type": "execute_result"
    }
   ],
   "source": [
    "rmse.append(mean_squared_error(testY, predGs1, squared=False))\n",
    "rmse.append(mean_squared_error(trainY, predGs2, squared=False))\n",
    "(mean_squared_error(testY, predGs1, squared=False), mean_squared_error(trainY, predGs2, squared=False))"
   ]
  },
  {
   "cell_type": "markdown",
   "id": "9e6403e2",
   "metadata": {},
   "source": [
    "### Сравним метрики качества исходной и оптимальных моделей"
   ]
  },
  {
   "cell_type": "code",
   "execution_count": 27,
   "id": "f238ed90",
   "metadata": {},
   "outputs": [],
   "source": [
    "X = [i for i in range(len(rmse)//2)]\n",
    "testRMSE = []\n",
    "trainRMSE = []\n",
    "for i in range(len(rmse)):\n",
    "   if i%2==0:\n",
    "        trainRMSE.append(rmse[i])\n",
    "   else:\n",
    "        testRMSE.append(rmse[i])"
   ]
  },
  {
   "cell_type": "code",
   "execution_count": 28,
   "id": "ad79dd7b",
   "metadata": {},
   "outputs": [
    {
     "data": {
      "text/plain": [
       "<AxesSubplot:title={'center':'Сравнение предсказания тестовой выборки'}, xlabel='Marks', ylabel='RMSE'>"
      ]
     },
     "execution_count": 28,
     "metadata": {},
     "output_type": "execute_result"
    },
    {
     "data": {
      "image/png": "[encoded data removed]",
      "text/plain": [
       "<Figure size 432x432 with 1 Axes>"
      ]
     },
     "metadata": {
      "needs_background": "light"
     },
     "output_type": "display_data"
    }
   ],
   "source": [
    "dataframe = pd.DataFrame({\"Marks\": X, \"RMSE\": trainRMSE})\n",
    "fig, ax = plt.subplots(figsize=(6,6)) \n",
    "ax.title.set_text(\"Сравнение предсказания тестовой выборки\")\n",
    "sns.barplot(data=dataframe, y=\"RMSE\", x=\"Marks\", color=\"#8172fb\")"
   ]
  },
  {
   "cell_type": "code",
   "execution_count": 29,
   "id": "4d1bc441",
   "metadata": {},
   "outputs": [
    {
     "data": {
      "text/plain": [
       "<AxesSubplot:title={'center':'Сравнение предсказания обучающей выборки'}, xlabel='Marks', ylabel='RMSE'>"
      ]
     },
     "execution_count": 29,
     "metadata": {},
     "output_type": "execute_result"
    },
    {
     "data": {
      "image/png": "[encoded data removed]",
      "text/plain": [
       "<Figure size 432x432 with 1 Axes>"
      ]
     },
     "metadata": {
      "needs_background": "light"
     },
     "output_type": "display_data"
    }
   ],
   "source": [
    "dataframe = pd.DataFrame({\"Marks\": X, \"RMSE\": testRMSE})\n",
    "fig, ax = plt.subplots(figsize=(6,6)) \n",
    "ax.title.set_text(\"Сравнение предсказания обучающей выборки\")\n",
    "sns.barplot(data=dataframe, y=\"RMSE\", x=\"Marks\", color=\"#8172fb\")"
   ]
  },
  {
   "cell_type": "code",
   "execution_count": null,
   "id": "10dc3221",
   "metadata": {},
   "outputs": [],
   "source": []
  },
  {
   "cell_type": "code",
   "execution_count": null,
   "id": "b89adc5c",
   "metadata": {},
   "outputs": [],
   "source": []
  }
 ],
 "metadata": {
  "kernelspec": {
   "display_name": "Python 3 (ipykernel)",
   "language": "python",
   "name": "python3"
  },
  "language_info": {
   "codemirror_mode": {
    "name": "ipython",
    "version": 3
   },
   "file_extension": ".py",
   "mimetype": "text/x-python",
   "name": "python",
   "nbconvert_exporter": "python",
   "pygments_lexer": "ipython3",
   "version": "3.9.7"
  }
 },
 "nbformat": 4,
 "nbformat_minor": 5
}
